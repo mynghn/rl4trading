{
 "cells": [
  {
   "cell_type": "code",
   "execution_count": 1,
   "id": "f1ac93e8-b427-4475-8a70-06dc390a027c",
   "metadata": {
    "ExecuteTime": {
     "end_time": "2021-07-28T15:39:58.878752Z",
     "start_time": "2021-07-28T15:39:58.870713Z"
    }
   },
   "outputs": [],
   "source": [
    "import sys\n",
    "sys.path.append(\"../../src/\")"
   ]
  },
  {
   "cell_type": "code",
   "execution_count": 2,
   "id": "f3d97e58-c0f3-4a59-a43f-775d87083af5",
   "metadata": {
    "ExecuteTime": {
     "end_time": "2021-07-28T15:39:59.412121Z",
     "start_time": "2021-07-28T15:39:59.219674Z"
    }
   },
   "outputs": [],
   "source": [
    "from agents.baseline import KOSPIFollower, DiversifyingRandomTrader\n",
    "from environment.market import StockMarket, BackTester"
   ]
  },
  {
   "cell_type": "code",
   "execution_count": 3,
   "id": "2ed73943-f6b6-4da9-84c9-008ec087836c",
   "metadata": {
    "ExecuteTime": {
     "end_time": "2021-07-28T15:39:59.738071Z",
     "start_time": "2021-07-28T15:39:59.734642Z"
    }
   },
   "outputs": [],
   "source": [
    "import datetime"
   ]
  },
  {
   "cell_type": "code",
   "execution_count": 4,
   "id": "046ed33f-645d-48c8-8e5a-affa13080ea6",
   "metadata": {
    "ExecuteTime": {
     "end_time": "2021-07-28T15:40:04.105839Z",
     "start_time": "2021-07-28T15:39:59.968845Z"
    },
    "scrolled": false
   },
   "outputs": [
    {
     "name": "stderr",
     "output_type": "stream",
     "text": [
      "21/07/29 00:40:01 WARN Utils: Your hostname, mh-MacBook-Air.local resolves to a loopback address: 127.0.0.1; using 192.168.35.128 instead (on interface en0)\n",
      "21/07/29 00:40:01 WARN Utils: Set SPARK_LOCAL_IP if you need to bind to another address\n",
      "WARNING: An illegal reflective access operation has occurred\n",
      "WARNING: Illegal reflective access by org.apache.spark.unsafe.Platform (file:/Library/Frameworks/Python.framework/Versions/3.9/lib/python3.9/site-packages/pyspark/jars/spark-unsafe_2.12-3.1.2.jar) to constructor java.nio.DirectByteBuffer(long,int)\n",
      "WARNING: Please consider reporting this to the maintainers of org.apache.spark.unsafe.Platform\n",
      "WARNING: Use --illegal-access=warn to enable warnings of further illegal reflective access operations\n",
      "WARNING: All illegal access operations will be denied in a future release\n",
      "21/07/29 00:40:01 WARN NativeCodeLoader: Unable to load native-hadoop library for your platform... using builtin-java classes where applicable\n",
      "Using Spark's default log4j profile: org/apache/spark/log4j-defaults.properties\n",
      "Setting default log level to \"WARN\".\n",
      "To adjust logging level use sc.setLogLevel(newLevel). For SparkR, use setLogLevel(newLevel).\n"
     ]
    }
   ],
   "source": [
    "from pyspark.sql import SparkSession\n",
    "\n",
    "\n",
    "MAX_MEMORY = \"32g\"\n",
    "spark = (\n",
    "    SparkSession.builder.appName(\"Test Shell\")\n",
    "    .config(\"spark.driver.memory\", MAX_MEMORY)\n",
    "    .config(\"spark.sql.session.timeZone\", \"Asia/Seoul\")\n",
    "    .config(\"spark.driver.extraJavaOptions\", \"-Duser.timezone=Asia/Seoul\")\n",
    "    .config(\"spark.executor.extraJavaOptions\", \"-Duser.timezone=Asia/Seoul\")\n",
    "    .getOrCreate()\n",
    ")"
   ]
  },
  {
   "cell_type": "code",
   "execution_count": 5,
   "id": "4f65eb45-5b41-4000-8c60-52dc26f442c9",
   "metadata": {
    "ExecuteTime": {
     "end_time": "2021-07-28T15:40:24.906051Z",
     "start_time": "2021-07-28T15:40:04.107510Z"
    }
   },
   "outputs": [
    {
     "name": "stderr",
     "output_type": "stream",
     "text": [
      "                                                                                \r"
     ]
    }
   ],
   "source": [
    "market = StockMarket(spark=spark, data_path=\"../../data\")"
   ]
  },
  {
   "cell_type": "code",
   "execution_count": 6,
   "id": "0e494e2d-6148-4afa-8dcf-24343bd04853",
   "metadata": {
    "ExecuteTime": {
     "end_time": "2021-07-28T15:40:24.909829Z",
     "start_time": "2021-07-28T15:40:24.907027Z"
    }
   },
   "outputs": [],
   "source": [
    "simulator = BackTester(stock_market=market)"
   ]
  },
  {
   "cell_type": "markdown",
   "id": "4bd2e044-b350-4b78-b050-277ca26c91e2",
   "metadata": {},
   "source": [
    "# 랜덤분산투자자"
   ]
  },
  {
   "cell_type": "code",
   "execution_count": 7,
   "id": "f9eefcfd-a958-468a-b01a-b44fddde7bdc",
   "metadata": {
    "ExecuteTime": {
     "end_time": "2021-07-28T15:40:24.947610Z",
     "start_time": "2021-07-28T15:40:24.912586Z"
    }
   },
   "outputs": [],
   "source": [
    "from tqdm.notebook import tqdm"
   ]
  },
  {
   "cell_type": "code",
   "execution_count": 8,
   "id": "ccc83bea",
   "metadata": {
    "ExecuteTime": {
     "end_time": "2021-07-28T15:40:31.587953Z",
     "start_time": "2021-07-28T15:40:24.948581Z"
    }
   },
   "outputs": [
    {
     "name": "stderr",
     "output_type": "stream",
     "text": [
      "/Library/Frameworks/Python.framework/Versions/3.9/lib/python3.9/site-packages/ray/autoscaler/_private/cli_logger.py:57: FutureWarning: Not all Ray CLI dependencies were found. In Ray 1.4+, the Ray CLI, autoscaler, and dashboard will only be usable via `pip install 'ray[default]'`. Please update your install command.\n",
      "  warnings.warn(\n",
      "2021-07-29 00:40:29,653\tINFO services.py:1245 -- View the Ray dashboard at \u001b[1m\u001b[32mhttp://127.0.0.1:8265\u001b[39m\u001b[22m\n"
     ]
    },
    {
     "data": {
      "text/plain": [
       "{'node_ip_address': '192.168.35.128',\n",
       " 'raylet_ip_address': '192.168.35.128',\n",
       " 'redis_address': '192.168.35.128:6379',\n",
       " 'object_store_address': '/tmp/ray/session_2021-07-29_00-40-25_174346_80093/sockets/plasma_store',\n",
       " 'raylet_socket_name': '/tmp/ray/session_2021-07-29_00-40-25_174346_80093/sockets/raylet',\n",
       " 'webui_url': '127.0.0.1:8265',\n",
       " 'session_dir': '/tmp/ray/session_2021-07-29_00-40-25_174346_80093',\n",
       " 'metrics_export_port': 62252,\n",
       " 'node_id': '2b5e5757c41b0703a4d621bdaf1b22a65b7acf7607b9a9b037ad777f'}"
      ]
     },
     "execution_count": 8,
     "metadata": {},
     "output_type": "execute_result"
    }
   ],
   "source": [
    "import ray\n",
    "ray.init()"
   ]
  },
  {
   "cell_type": "code",
   "execution_count": 11,
   "id": "39b8e276",
   "metadata": {
    "ExecuteTime": {
     "end_time": "2021-07-29T00:33:36.868349Z",
     "start_time": "2021-07-28T15:44:20.746657Z"
    },
    "scrolled": false
   },
   "outputs": [
    {
     "name": "stdout",
     "output_type": "stream",
     "text": [
      "===== Episode: 1 =====\n"
     ]
    },
    {
     "name": "stderr",
     "output_type": "stream",
     "text": [
      "                                                                                \r"
     ]
    },
    {
     "name": "stdout",
     "output_type": "stream",
     "text": [
      "Return: 541,452₩\n",
      "===== Episode: 2 =====\n",
      "Return: -1,712,455₩\n",
      "===== Episode: 3 =====\n",
      "Return: -3,551,583₩\n",
      "===== Episode: 4 =====\n",
      "Return: 4,455,525₩\n",
      "===== Episode: 5 =====\n",
      "Return: 5,020,664₩\n",
      "===== Episode: 6 =====\n",
      "Return: 1,255,318₩\n",
      "===== Episode: 7 =====\n",
      "Return: 832,911₩\n",
      "===== Episode: 8 =====\n",
      "Return: -827,227₩\n",
      "===== Episode: 9 =====\n",
      "Return: 367,572₩\n",
      "===== Episode: 10 =====\n",
      "Return: 755,019₩\n",
      "===== Episode: 11 =====\n",
      "Return: -948,493₩\n",
      "===== Episode: 12 =====\n",
      "Return: -101,436₩\n",
      "===== Episode: 13 =====\n",
      "Return: -14,068₩\n",
      "===== Episode: 14 =====\n"
     ]
    },
    {
     "name": "stderr",
     "output_type": "stream",
     "text": [
      "                                                                                \r"
     ]
    },
    {
     "name": "stdout",
     "output_type": "stream",
     "text": [
      "Return: -2,053,020₩\n",
      "===== Episode: 15 =====\n"
     ]
    },
    {
     "name": "stderr",
     "output_type": "stream",
     "text": [
      "                                                                                \r"
     ]
    },
    {
     "name": "stdout",
     "output_type": "stream",
     "text": [
      "Return: 1,880,826₩\n",
      "===== Episode: 16 =====\n"
     ]
    },
    {
     "name": "stderr",
     "output_type": "stream",
     "text": [
      "                                                                                \r"
     ]
    },
    {
     "name": "stdout",
     "output_type": "stream",
     "text": [
      "Return: 409,860₩\n",
      "===== Episode: 17 =====\n"
     ]
    },
    {
     "name": "stderr",
     "output_type": "stream",
     "text": [
      "21/07/29 02:30:31 WARN HeartbeatReceiver: Removing executor driver with no recent heartbeats: 205315 ms exceeds timeout 120000 ms\n",
      "21/07/29 02:30:31 WARN SparkContext: Killing executors is not supported by current scheduler.\n"
     ]
    },
    {
     "name": "stdout",
     "output_type": "stream",
     "text": [
      "Return: 986,583₩\n",
      "===== Episode: 18 =====\n"
     ]
    },
    {
     "name": "stderr",
     "output_type": "stream",
     "text": [
      "                                                                                \r"
     ]
    },
    {
     "name": "stdout",
     "output_type": "stream",
     "text": [
      "Return: 1,967,530₩\n",
      "===== Episode: 19 =====\n",
      "Return: -3,058,333₩\n",
      "===== Episode: 20 =====\n"
     ]
    },
    {
     "name": "stderr",
     "output_type": "stream",
     "text": [
      "\r",
      "[Stage 18757:=========================>                         (50 + 10) / 100]\r",
      "\r",
      "                                                                                \r"
     ]
    },
    {
     "name": "stdout",
     "output_type": "stream",
     "text": [
      "Return: -2,348,932₩\n",
      "===== Episode: 21 =====\n"
     ]
    },
    {
     "name": "stderr",
     "output_type": "stream",
     "text": [
      "                                                                                \r"
     ]
    },
    {
     "name": "stdout",
     "output_type": "stream",
     "text": [
      "Return: 576,051₩\n",
      "===== Episode: 22 =====\n"
     ]
    },
    {
     "name": "stderr",
     "output_type": "stream",
     "text": [
      "                                                                                \r"
     ]
    },
    {
     "name": "stdout",
     "output_type": "stream",
     "text": [
      "Return: -1,213,030₩\n",
      "===== Episode: 23 =====\n"
     ]
    },
    {
     "name": "stderr",
     "output_type": "stream",
     "text": [
      "21/07/29 06:22:13 WARN Executor: Issue communicating with driver in heartbeater\n",
      "java.lang.NullPointerException\n",
      "\tat org.apache.spark.storage.memory.MemoryStore.getSize(MemoryStore.scala:131)\n",
      "\tat org.apache.spark.storage.BlockManager.org$apache$spark$storage$BlockManager$$getCurrentBlockStatus(BlockManager.scala:815)\n",
      "\tat org.apache.spark.storage.BlockManager.$anonfun$reportAllBlocks$3(BlockManager.scala:571)\n",
      "\tat org.apache.spark.storage.BlockManager.$anonfun$reportAllBlocks$3$adapted(BlockManager.scala:570)\n",
      "\tat scala.collection.Iterator.foreach(Iterator.scala:941)\n",
      "\tat scala.collection.Iterator.foreach$(Iterator.scala:941)\n",
      "\tat scala.collection.AbstractIterator.foreach(Iterator.scala:1429)\n",
      "\tat org.apache.spark.storage.BlockManager.reportAllBlocks(BlockManager.scala:570)\n",
      "\tat org.apache.spark.storage.BlockManager.reregister(BlockManager.scala:590)\n",
      "\tat org.apache.spark.executor.Executor.reportHeartBeat(Executor.scala:1000)\n",
      "\tat org.apache.spark.executor.Executor.$anonfun$heartbeater$1(Executor.scala:212)\n",
      "\tat scala.runtime.java8.JFunction0$mcV$sp.apply(JFunction0$mcV$sp.java:23)\n",
      "\tat org.apache.spark.util.Utils$.logUncaughtExceptions(Utils.scala:1996)\n",
      "\tat org.apache.spark.Heartbeater$$anon$1.run(Heartbeater.scala:46)\n",
      "\tat java.base/java.util.concurrent.Executors$RunnableAdapter.call(Executors.java:515)\n",
      "\tat java.base/java.util.concurrent.FutureTask.runAndReset(FutureTask.java:305)\n",
      "\tat java.base/java.util.concurrent.ScheduledThreadPoolExecutor$ScheduledFutureTask.run(ScheduledThreadPoolExecutor.java:305)\n",
      "\tat java.base/java.util.concurrent.ThreadPoolExecutor.runWorker(ThreadPoolExecutor.java:1130)\n",
      "\tat java.base/java.util.concurrent.ThreadPoolExecutor$Worker.run(ThreadPoolExecutor.java:630)\n",
      "\tat java.base/java.lang.Thread.run(Thread.java:832)\n",
      "                                                                                \r"
     ]
    },
    {
     "name": "stdout",
     "output_type": "stream",
     "text": [
      "Return: 258,277₩\n",
      "===== Episode: 24 =====\n"
     ]
    },
    {
     "name": "stderr",
     "output_type": "stream",
     "text": [
      "                                                                                \r"
     ]
    },
    {
     "name": "stdout",
     "output_type": "stream",
     "text": [
      "Return: 942,121₩\n",
      "===== Episode: 25 =====\n"
     ]
    },
    {
     "name": "stderr",
     "output_type": "stream",
     "text": [
      "\r",
      "[Stage 24149:=============================>                      (56 + 8) / 100]\r",
      "\r",
      "                                                                                \r"
     ]
    },
    {
     "name": "stdout",
     "output_type": "stream",
     "text": [
      "Return: 2,596,360₩\n",
      "===== Episode: 26 =====\n",
      "Return: -29,651₩\n",
      "===== Episode: 27 =====\n",
      "Return: 1,650,332₩\n",
      "===== Episode: 28 =====\n",
      "Return: 126,905₩\n",
      "===== Episode: 29 =====\n",
      "Return: -2,723,279₩\n",
      "===== Episode: 30 =====\n",
      "Return: 1,680,447₩\n",
      "===== Episode: 31 =====\n",
      "Return: -442,588₩\n",
      "===== Episode: 32 =====\n",
      "Return: 587,908₩\n",
      "===== Episode: 33 =====\n",
      "Return: 1,207,497₩\n",
      "===== Episode: 34 =====\n",
      "Return: 2,098,462₩\n",
      "===== Episode: 35 =====\n",
      "Return: 787,775₩\n",
      "===== Episode: 36 =====\n",
      "Return: 215,376₩\n",
      "===== Episode: 37 =====\n",
      "Return: -59,054₩\n",
      "===== Episode: 38 =====\n",
      "Return: 1,141,717₩\n",
      "===== Episode: 39 =====\n",
      "Return: -902,581₩\n",
      "===== Episode: 40 =====\n",
      "Return: -323,234₩\n",
      "===== Episode: 41 =====\n"
     ]
    },
    {
     "name": "stderr",
     "output_type": "stream",
     "text": [
      "\r",
      "[Stage 41525:=====>                                              (11 + 9) / 100]\r",
      "\r",
      "                                                                                \r"
     ]
    },
    {
     "name": "stdout",
     "output_type": "stream",
     "text": [
      "Return: 309,032₩\n",
      "===== Episode: 42 =====\n"
     ]
    },
    {
     "name": "stderr",
     "output_type": "stream",
     "text": [
      "\r",
      "[Stage 42503:===============>                                    (29 + 8) / 100]\r",
      "\r",
      "                                                                                \r"
     ]
    },
    {
     "name": "stdout",
     "output_type": "stream",
     "text": [
      "Return: 790,399₩\n",
      "===== Episode: 43 =====\n",
      "Return: -1,217,024₩\n",
      "===== Episode: 44 =====\n",
      "Return: 5,005,897₩\n",
      "===== Episode: 45 =====\n",
      "Return: 4,057,108₩\n",
      "===== Episode: 46 =====\n",
      "Return: 234,734₩\n",
      "===== Episode: 47 =====\n",
      "Return: -42,925₩\n",
      "===== Episode: 48 =====\n",
      "Return: 481,385₩\n",
      "===== Episode: 49 =====\n",
      "Return: 1,607,672₩\n",
      "===== Episode: 50 =====\n",
      "Return: 2,522,850₩\n",
      "===== Episode: 51 =====\n",
      "Return: 1,710,594₩\n",
      "===== Episode: 52 =====\n",
      "Return: -4,328,296₩\n",
      "===== Episode: 53 =====\n",
      "Return: 156,481₩\n",
      "===== Episode: 54 =====\n",
      "Return: 2,100,599₩\n",
      "===== Episode: 55 =====\n",
      "Return: 1,050,825₩\n",
      "===== Episode: 56 =====\n",
      "Return: -103,204₩\n",
      "===== Episode: 57 =====\n",
      "Return: -2,049,722₩\n",
      "===== Episode: 58 =====\n",
      "Return: -1,951,857₩\n",
      "===== Episode: 59 =====\n",
      "Return: 788,573₩\n",
      "===== Episode: 60 =====\n",
      "Return: 2,986,307₩\n",
      "===== Episode: 61 =====\n",
      "Return: 602,493₩\n",
      "===== Episode: 62 =====\n",
      "Return: 497,666₩\n",
      "===== Episode: 63 =====\n",
      "Return: -3,425,878₩\n",
      "===== Episode: 64 =====\n",
      "Return: 1,551,661₩\n",
      "===== Episode: 65 =====\n",
      "Return: 3,181,978₩\n",
      "===== Episode: 66 =====\n",
      "Return: -2,775,378₩\n",
      "===== Episode: 67 =====\n",
      "Return: 1,597,863₩\n",
      "===== Episode: 68 =====\n",
      "Return: -14,711,087₩\n",
      "===== Episode: 69 =====\n",
      "Return: -3,578,786₩\n",
      "===== Episode: 70 =====\n",
      "Return: -2,323,816₩\n",
      "===== Episode: 71 =====\n",
      "Return: -1,959,529₩\n",
      "===== Episode: 72 =====\n",
      "Return: -2,244,480₩\n",
      "===== Episode: 73 =====\n",
      "Return: -2,927,092₩\n",
      "===== Episode: 74 =====\n",
      "Return: 1,202,615₩\n",
      "===== Episode: 75 =====\n",
      "Return: -118,344₩\n",
      "===== Episode: 76 =====\n",
      "Return: -690,610₩\n",
      "===== Episode: 77 =====\n",
      "Return: 270,530₩\n",
      "===== Episode: 78 =====\n",
      "Return: -475,160₩\n",
      "===== Episode: 79 =====\n",
      "Return: -117,841₩\n",
      "===== Episode: 80 =====\n",
      "Return: 2,631,474₩\n",
      "===== Episode: 81 =====\n",
      "Return: 1,515,459₩\n",
      "===== Episode: 82 =====\n",
      "Return: -4,233,636₩\n",
      "===== Episode: 83 =====\n",
      "Return: -2,393,307₩\n",
      "===== Episode: 84 =====\n",
      "Return: 2,192,013₩\n",
      "===== Episode: 85 =====\n",
      "Return: 2,049₩\n",
      "===== Episode: 86 =====\n",
      "Return: -19,806₩\n",
      "===== Episode: 87 =====\n",
      "Return: 2,218,302₩\n",
      "===== Episode: 88 =====\n",
      "Return: -3,010,140₩\n",
      "===== Episode: 89 =====\n",
      "Return: 304,219₩\n",
      "===== Episode: 90 =====\n",
      "Return: 848,586₩\n",
      "===== Episode: 91 =====\n",
      "Return: 1,403,675₩\n",
      "===== Episode: 92 =====\n",
      "Return: -1,459,028₩\n",
      "===== Episode: 93 =====\n",
      "Return: -44,285₩\n",
      "===== Episode: 94 =====\n",
      "Return: 1,406,776₩\n",
      "===== Episode: 95 =====\n",
      "Return: 285,988₩\n",
      "===== Episode: 96 =====\n",
      "Return: -78,666₩\n",
      "===== Episode: 97 =====\n",
      "Return: 401,806₩\n",
      "===== Episode: 98 =====\n",
      "Return: 1,222,416₩\n",
      "===== Episode: 99 =====\n",
      "Return: 5,093,512₩\n",
      "===== Episode: 100 =====\n",
      "Return: -3,774,707₩\n",
      "===== Episode: 101 =====\n",
      "Return: 3,772,121₩\n",
      "===== Episode: 102 =====\n",
      "Return: -5,931,436₩\n",
      "===== Episode: 103 =====\n",
      "Return: -9,020,266₩\n",
      "===== Episode: 104 =====\n",
      "Return: -898,267₩\n",
      "===== Episode: 105 =====\n",
      "Return: 5,530,376₩\n",
      "===== Episode: 106 =====\n",
      "Return: 4,436,646₩\n",
      "===== Episode: 107 =====\n",
      "Return: 3,708,488₩\n",
      "Final Average ROR: 0.05%\n"
     ]
    }
   ],
   "source": [
    "random_diversifier = DiversifyingRandomTrader(upper_bound=.1, lower_bound=.1)\n",
    "ror = simulator.test(agent=random_diversifier, window_size=2, test_start=datetime.date(2016, 1, 1), test_end=datetime.date(2020, 5, 19))"
   ]
  },
  {
   "cell_type": "code",
   "execution_count": 12,
   "id": "ccf0d693-8b52-4412-bce2-9ae001a4142b",
   "metadata": {
    "ExecuteTime": {
     "end_time": "2021-07-29T00:33:36.882159Z",
     "start_time": "2021-07-29T00:33:36.870055Z"
    },
    "scrolled": false
   },
   "outputs": [],
   "source": [
    "@ray.remote\n",
    "def grid_search():\n",
    "    result = []\n",
    "    for r1 in tqdm(range(5, 21, 1)):\n",
    "        for r2 in tqdm(range(5, 21, 1)):\n",
    "            random_diversifier = DiversifyingRandomTrader(upper_bound=r1/100, lower_bound=r2/100)\n",
    "            ror = simulator.test(agent=random_diversifier, window_size=2, test_start=datetime.date(2016, 1, 1), test_end=datetime.date(2020, 5, 19))\n",
    "            random_diversifier.reset()\n",
    "            result.append(((r1/100, r2/100), ror))\n",
    "\n",
    "    best = sorted(result, key=lambda r: r[1], reverse=True).pop(0)\n",
    "    print(\"Best Result: (r1, r2)={0:}, ROR={1:.2%}\".format(*best))"
   ]
  },
  {
   "cell_type": "code",
   "execution_count": 13,
   "id": "90737c2d",
   "metadata": {
    "ExecuteTime": {
     "end_time": "2021-07-29T00:33:36.895520Z",
     "start_time": "2021-07-29T00:33:36.883561Z"
    }
   },
   "outputs": [
    {
     "ename": "Exception",
     "evalue": "It appears that you are attempting to reference SparkContext from a broadcast variable, action, or transformation. SparkContext can only be used on the driver, not in code that it run on workers. For more information, see SPARK-5063.",
     "output_type": "error",
     "traceback": [
      "\u001b[0;31m---------------------------------------------------------------------------\u001b[0m",
      "\u001b[0;31mException\u001b[0m                                 Traceback (most recent call last)",
      "\u001b[0;32m/var/folders/7h/6jgdtfq939gc0fkr1959w_3w0000gn/T/ipykernel_80093/364542218.py\u001b[0m in \u001b[0;36m<module>\u001b[0;34m\u001b[0m\n\u001b[0;32m----> 1\u001b[0;31m \u001b[0mgrid_search\u001b[0m\u001b[0;34m.\u001b[0m\u001b[0mremote\u001b[0m\u001b[0;34m(\u001b[0m\u001b[0;34m)\u001b[0m\u001b[0;34m\u001b[0m\u001b[0;34m\u001b[0m\u001b[0m\n\u001b[0m",
      "\u001b[0;32m/Library/Frameworks/Python.framework/Versions/3.9/lib/python3.9/site-packages/ray/remote_function.py\u001b[0m in \u001b[0;36m_remote_proxy\u001b[0;34m(*args, **kwargs)\u001b[0m\n\u001b[1;32m    112\u001b[0m         \u001b[0;34m@\u001b[0m\u001b[0mwraps\u001b[0m\u001b[0;34m(\u001b[0m\u001b[0mfunction\u001b[0m\u001b[0;34m)\u001b[0m\u001b[0;34m\u001b[0m\u001b[0;34m\u001b[0m\u001b[0m\n\u001b[1;32m    113\u001b[0m         \u001b[0;32mdef\u001b[0m \u001b[0m_remote_proxy\u001b[0m\u001b[0;34m(\u001b[0m\u001b[0;34m*\u001b[0m\u001b[0margs\u001b[0m\u001b[0;34m,\u001b[0m \u001b[0;34m**\u001b[0m\u001b[0mkwargs\u001b[0m\u001b[0;34m)\u001b[0m\u001b[0;34m:\u001b[0m\u001b[0;34m\u001b[0m\u001b[0;34m\u001b[0m\u001b[0m\n\u001b[0;32m--> 114\u001b[0;31m             \u001b[0;32mreturn\u001b[0m \u001b[0mself\u001b[0m\u001b[0;34m.\u001b[0m\u001b[0m_remote\u001b[0m\u001b[0;34m(\u001b[0m\u001b[0margs\u001b[0m\u001b[0;34m=\u001b[0m\u001b[0margs\u001b[0m\u001b[0;34m,\u001b[0m \u001b[0mkwargs\u001b[0m\u001b[0;34m=\u001b[0m\u001b[0mkwargs\u001b[0m\u001b[0;34m)\u001b[0m\u001b[0;34m\u001b[0m\u001b[0;34m\u001b[0m\u001b[0m\n\u001b[0m\u001b[1;32m    115\u001b[0m \u001b[0;34m\u001b[0m\u001b[0m\n\u001b[1;32m    116\u001b[0m         \u001b[0mself\u001b[0m\u001b[0;34m.\u001b[0m\u001b[0mremote\u001b[0m \u001b[0;34m=\u001b[0m \u001b[0m_remote_proxy\u001b[0m\u001b[0;34m\u001b[0m\u001b[0;34m\u001b[0m\u001b[0m\n",
      "\u001b[0;32m/Library/Frameworks/Python.framework/Versions/3.9/lib/python3.9/site-packages/ray/util/tracing/tracing_helper.py\u001b[0m in \u001b[0;36m_invocation_remote_span\u001b[0;34m(self, args, kwargs, *_args, **_kwargs)\u001b[0m\n\u001b[1;32m    290\u001b[0m         \u001b[0;31m# If tracing feature flag is not on, perform a no-op\u001b[0m\u001b[0;34m\u001b[0m\u001b[0;34m\u001b[0m\u001b[0;34m\u001b[0m\u001b[0m\n\u001b[1;32m    291\u001b[0m         \u001b[0;32mif\u001b[0m \u001b[0;32mnot\u001b[0m \u001b[0mis_tracing_enabled\u001b[0m\u001b[0;34m(\u001b[0m\u001b[0;34m)\u001b[0m\u001b[0;34m:\u001b[0m\u001b[0;34m\u001b[0m\u001b[0;34m\u001b[0m\u001b[0m\n\u001b[0;32m--> 292\u001b[0;31m             \u001b[0;32mreturn\u001b[0m \u001b[0mmethod\u001b[0m\u001b[0;34m(\u001b[0m\u001b[0mself\u001b[0m\u001b[0;34m,\u001b[0m \u001b[0margs\u001b[0m\u001b[0;34m,\u001b[0m \u001b[0mkwargs\u001b[0m\u001b[0;34m,\u001b[0m \u001b[0;34m*\u001b[0m\u001b[0m_args\u001b[0m\u001b[0;34m,\u001b[0m \u001b[0;34m**\u001b[0m\u001b[0m_kwargs\u001b[0m\u001b[0;34m)\u001b[0m\u001b[0;34m\u001b[0m\u001b[0;34m\u001b[0m\u001b[0m\n\u001b[0m\u001b[1;32m    293\u001b[0m         \u001b[0;32massert\u001b[0m \u001b[0;34m\"_ray_trace_ctx\"\u001b[0m \u001b[0;32mnot\u001b[0m \u001b[0;32min\u001b[0m \u001b[0mkwargs\u001b[0m\u001b[0;34m\u001b[0m\u001b[0;34m\u001b[0m\u001b[0m\n\u001b[1;32m    294\u001b[0m \u001b[0;34m\u001b[0m\u001b[0m\n",
      "\u001b[0;32m/Library/Frameworks/Python.framework/Versions/3.9/lib/python3.9/site-packages/ray/remote_function.py\u001b[0m in \u001b[0;36m_remote\u001b[0;34m(self, args, kwargs, num_returns, num_cpus, num_gpus, memory, object_store_memory, accelerator_type, resources, max_retries, placement_group, placement_group_bundle_index, placement_group_capture_child_tasks, runtime_env, override_environment_variables, name)\u001b[0m\n\u001b[1;32m    237\u001b[0m             \u001b[0;31m# first driver. This is an argument for repickling the function,\u001b[0m\u001b[0;34m\u001b[0m\u001b[0;34m\u001b[0m\u001b[0;34m\u001b[0m\u001b[0m\n\u001b[1;32m    238\u001b[0m             \u001b[0;31m# which we do here.\u001b[0m\u001b[0;34m\u001b[0m\u001b[0;34m\u001b[0m\u001b[0;34m\u001b[0m\u001b[0m\n\u001b[0;32m--> 239\u001b[0;31m             \u001b[0mself\u001b[0m\u001b[0;34m.\u001b[0m\u001b[0m_pickled_function\u001b[0m \u001b[0;34m=\u001b[0m \u001b[0mpickle\u001b[0m\u001b[0;34m.\u001b[0m\u001b[0mdumps\u001b[0m\u001b[0;34m(\u001b[0m\u001b[0mself\u001b[0m\u001b[0;34m.\u001b[0m\u001b[0m_function\u001b[0m\u001b[0;34m)\u001b[0m\u001b[0;34m\u001b[0m\u001b[0;34m\u001b[0m\u001b[0m\n\u001b[0m\u001b[1;32m    240\u001b[0m \u001b[0;34m\u001b[0m\u001b[0m\n\u001b[1;32m    241\u001b[0m             self._function_descriptor = PythonFunctionDescriptor.from_function(\n",
      "\u001b[0;32m/Library/Frameworks/Python.framework/Versions/3.9/lib/python3.9/site-packages/ray/cloudpickle/cloudpickle_fast.py\u001b[0m in \u001b[0;36mdumps\u001b[0;34m(obj, protocol, buffer_callback)\u001b[0m\n\u001b[1;32m     71\u001b[0m                 \u001b[0mfile\u001b[0m\u001b[0;34m,\u001b[0m \u001b[0mprotocol\u001b[0m\u001b[0;34m=\u001b[0m\u001b[0mprotocol\u001b[0m\u001b[0;34m,\u001b[0m \u001b[0mbuffer_callback\u001b[0m\u001b[0;34m=\u001b[0m\u001b[0mbuffer_callback\u001b[0m\u001b[0;34m\u001b[0m\u001b[0;34m\u001b[0m\u001b[0m\n\u001b[1;32m     72\u001b[0m             )\n\u001b[0;32m---> 73\u001b[0;31m             \u001b[0mcp\u001b[0m\u001b[0;34m.\u001b[0m\u001b[0mdump\u001b[0m\u001b[0;34m(\u001b[0m\u001b[0mobj\u001b[0m\u001b[0;34m)\u001b[0m\u001b[0;34m\u001b[0m\u001b[0;34m\u001b[0m\u001b[0m\n\u001b[0m\u001b[1;32m     74\u001b[0m             \u001b[0;32mreturn\u001b[0m \u001b[0mfile\u001b[0m\u001b[0;34m.\u001b[0m\u001b[0mgetvalue\u001b[0m\u001b[0;34m(\u001b[0m\u001b[0;34m)\u001b[0m\u001b[0;34m\u001b[0m\u001b[0;34m\u001b[0m\u001b[0m\n\u001b[1;32m     75\u001b[0m \u001b[0;34m\u001b[0m\u001b[0m\n",
      "\u001b[0;32m/Library/Frameworks/Python.framework/Versions/3.9/lib/python3.9/site-packages/ray/cloudpickle/cloudpickle_fast.py\u001b[0m in \u001b[0;36mdump\u001b[0;34m(self, obj)\u001b[0m\n\u001b[1;32m    578\u001b[0m     \u001b[0;32mdef\u001b[0m \u001b[0mdump\u001b[0m\u001b[0;34m(\u001b[0m\u001b[0mself\u001b[0m\u001b[0;34m,\u001b[0m \u001b[0mobj\u001b[0m\u001b[0;34m)\u001b[0m\u001b[0;34m:\u001b[0m\u001b[0;34m\u001b[0m\u001b[0;34m\u001b[0m\u001b[0m\n\u001b[1;32m    579\u001b[0m         \u001b[0;32mtry\u001b[0m\u001b[0;34m:\u001b[0m\u001b[0;34m\u001b[0m\u001b[0;34m\u001b[0m\u001b[0m\n\u001b[0;32m--> 580\u001b[0;31m             \u001b[0;32mreturn\u001b[0m \u001b[0mPickler\u001b[0m\u001b[0;34m.\u001b[0m\u001b[0mdump\u001b[0m\u001b[0;34m(\u001b[0m\u001b[0mself\u001b[0m\u001b[0;34m,\u001b[0m \u001b[0mobj\u001b[0m\u001b[0;34m)\u001b[0m\u001b[0;34m\u001b[0m\u001b[0;34m\u001b[0m\u001b[0m\n\u001b[0m\u001b[1;32m    581\u001b[0m         \u001b[0;32mexcept\u001b[0m \u001b[0mRuntimeError\u001b[0m \u001b[0;32mas\u001b[0m \u001b[0me\u001b[0m\u001b[0;34m:\u001b[0m\u001b[0;34m\u001b[0m\u001b[0;34m\u001b[0m\u001b[0m\n\u001b[1;32m    582\u001b[0m             \u001b[0;32mif\u001b[0m \u001b[0;34m\"recursion\"\u001b[0m \u001b[0;32min\u001b[0m \u001b[0me\u001b[0m\u001b[0;34m.\u001b[0m\u001b[0margs\u001b[0m\u001b[0;34m[\u001b[0m\u001b[0;36m0\u001b[0m\u001b[0;34m]\u001b[0m\u001b[0;34m:\u001b[0m\u001b[0;34m\u001b[0m\u001b[0;34m\u001b[0m\u001b[0m\n",
      "\u001b[0;32m/Library/Frameworks/Python.framework/Versions/3.9/lib/python3.9/site-packages/pyspark/context.py\u001b[0m in \u001b[0;36m__getnewargs__\u001b[0;34m(self)\u001b[0m\n\u001b[1;32m    351\u001b[0m     \u001b[0;32mdef\u001b[0m \u001b[0m__getnewargs__\u001b[0m\u001b[0;34m(\u001b[0m\u001b[0mself\u001b[0m\u001b[0;34m)\u001b[0m\u001b[0;34m:\u001b[0m\u001b[0;34m\u001b[0m\u001b[0;34m\u001b[0m\u001b[0m\n\u001b[1;32m    352\u001b[0m         \u001b[0;31m# This method is called when attempting to pickle SparkContext, which is always an error:\u001b[0m\u001b[0;34m\u001b[0m\u001b[0;34m\u001b[0m\u001b[0;34m\u001b[0m\u001b[0m\n\u001b[0;32m--> 353\u001b[0;31m         raise Exception(\n\u001b[0m\u001b[1;32m    354\u001b[0m             \u001b[0;34m\"It appears that you are attempting to reference SparkContext from a broadcast \"\u001b[0m\u001b[0;34m\u001b[0m\u001b[0;34m\u001b[0m\u001b[0m\n\u001b[1;32m    355\u001b[0m             \u001b[0;34m\"variable, action, or transformation. SparkContext can only be used on the driver, \"\u001b[0m\u001b[0;34m\u001b[0m\u001b[0;34m\u001b[0m\u001b[0m\n",
      "\u001b[0;31mException\u001b[0m: It appears that you are attempting to reference SparkContext from a broadcast variable, action, or transformation. SparkContext can only be used on the driver, not in code that it run on workers. For more information, see SPARK-5063."
     ]
    }
   ],
   "source": [
    "grid_search.remote()"
   ]
  },
  {
   "cell_type": "code",
   "execution_count": null,
   "id": "fcb20358",
   "metadata": {
    "ExecuteTime": {
     "end_time": "2021-07-29T00:33:36.897168Z",
     "start_time": "2021-07-29T00:33:36.897156Z"
    }
   },
   "outputs": [],
   "source": [
    "from collections import defaultdict\n",
    "\n",
    "temp = defaultdict(list)\n",
    "for r_pair, ror in result:\n",
    "    r1, r2 = r_pair\n",
    "    temp[r1 - r2].append(ror)\n",
    "    \n",
    "diff_score_dict = {}\n",
    "for diff, ror_list in temp.items():\n",
    "    diff_score_dict[diff] = sum(ror_list) / len(ror_list)\n",
    "\n",
    "print(sorted(diff_score_dict.items(), key=lambda r: r[1], reverse=True))"
   ]
  },
  {
   "cell_type": "markdown",
   "id": "b0482eb9-24c3-45a8-8434-68040398138d",
   "metadata": {},
   "source": [
    "# KOSPI 추종자"
   ]
  },
  {
   "cell_type": "code",
   "execution_count": null,
   "id": "f56aaa62-25d8-4aca-aa7e-8f6609ea5e76",
   "metadata": {
    "ExecuteTime": {
     "end_time": "2021-07-28T11:29:02.886846Z",
     "start_time": "2021-07-28T11:29:02.886840Z"
    }
   },
   "outputs": [],
   "source": [
    "simulator.test(agent=KOSPIFollower(), window_size=2, test_start=datetime.date(2016, 1, 1), test_end=datetime.date(2020, 5, 19))"
   ]
  },
  {
   "cell_type": "code",
   "execution_count": null,
   "id": "d2183879-3041-4f58-ba9e-cd9c931b4635",
   "metadata": {},
   "outputs": [],
   "source": []
  }
 ],
 "metadata": {
  "kernelspec": {
   "display_name": "Python 3 (ipykernel)",
   "language": "python",
   "name": "python3"
  },
  "language_info": {
   "codemirror_mode": {
    "name": "ipython",
    "version": 3
   },
   "file_extension": ".py",
   "mimetype": "text/x-python",
   "name": "python",
   "nbconvert_exporter": "python",
   "pygments_lexer": "ipython3",
   "version": "3.9.6"
  },
  "toc": {
   "base_numbering": 1,
   "nav_menu": {},
   "number_sections": true,
   "sideBar": true,
   "skip_h1_title": false,
   "title_cell": "Table of Contents",
   "title_sidebar": "Contents",
   "toc_cell": false,
   "toc_position": {
    "height": "calc(100% - 180px)",
    "left": "10px",
    "top": "150px",
    "width": "165px"
   },
   "toc_section_display": true,
   "toc_window_display": true
  }
 },
 "nbformat": 4,
 "nbformat_minor": 5
}
